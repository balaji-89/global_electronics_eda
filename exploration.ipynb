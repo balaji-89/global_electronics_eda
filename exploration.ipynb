{
 "cells": [
  {
   "cell_type": "code",
   "execution_count": 2,
   "metadata": {},
   "outputs": [],
   "source": [
    "import pandas as pd\n",
    "import numpy as np"
   ]
  },
  {
   "cell_type": "code",
   "execution_count": 3,
   "metadata": {},
   "outputs": [],
   "source": [
    "customers = pd.read_csv('data_csv/Customers.csv', encoding='unicode_escape')\n",
    "data_dictionary = pd.read_csv('data_csv/Data_Dictionary.csv')\n",
    "exchange_rates = pd.read_csv('data_csv/Exchange_Rates.csv')\n",
    "products = pd.read_csv('data_csv/Products.csv')\n",
    "sales =  pd.read_csv('data_csv/Sales.csv')\n",
    "stores = pd.read_csv('data_csv/Stores.csv')\n"
   ]
  },
  {
   "cell_type": "code",
   "execution_count": 4,
   "metadata": {},
   "outputs": [],
   "source": [
    "#preprocessing customer table\n",
    "\n",
    "#standardizing column_names\n",
    "def standardize_col_names(df: pd.DataFrame)->pd.DataFrame:\n",
    "        col_names = {val:val.lower().replace(' ','_').strip() for val in df.columns}\n",
    "        df.rename(columns=col_names,inplace=True)\n",
    "        return df\n",
    "\n",
    "\n",
    "def replace_nan_with_na(row):\n",
    "    if row['state'] == 'Napoli' and pd.isna(row['state_code']):\n",
    "        row['state_code'] = 'NA'\n",
    "    return row\n",
    "\n",
    "def format_date_column(row,date_col_name):\n",
    "    if not pd.isna(row[date_col_name]):\n",
    "        date = row[date_col_name].split('/')\n",
    "        row[date_col_name] = f\"{date[-1]}-{date[0]}-{date[1]}\"\n",
    "    return row\n",
    "        \n",
    "\n",
    "#standardizing column names\n",
    "customers = standardize_col_names(customers)\n",
    "#imputing null values\n",
    "customers = customers.apply(replace_nan_with_na, axis=1)\n",
    "#formating birthday in sql \n",
    "customers= customers.apply(lambda row : format_date_column(row,date_col_name='birthday'),axis = 1)\n"
   ]
  },
  {
   "cell_type": "code",
   "execution_count": 5,
   "metadata": {},
   "outputs": [],
   "source": [
    "#preprocessing products table\n",
    "\n",
    "def create_product_id(row):\n",
    "    index = product_category[(product_category['Subcategory'] == row['Subcategory']) & (product_category['Category'] == row['Category'])]['index']\n",
    "    return index.item()\n",
    "\n",
    "product_category = products.iloc[:,[-3,-1]].drop_duplicates().reset_index(drop=True).reset_index()\n",
    "products['category_id'] = [create_product_id(row[1]) for row in products.iterrows()]\n",
    "products = products.drop(['Subcategory','CategoryKey','Category','SubcategoryKey'],axis=1)\n",
    "products = standardize_col_names(products)\n",
    "product_category = standardize_col_names(product_category)\n",
    "\n"
   ]
  },
  {
   "cell_type": "code",
   "execution_count": 6,
   "metadata": {},
   "outputs": [],
   "source": [
    "#preprocessing sales table\n",
    "sales = standardize_col_names(sales)\n",
    "sales= sales.apply(lambda row : format_date_column(row,date_col_name='order_date'),axis = 1)\n",
    "sales= sales.apply(lambda row : format_date_column(row,date_col_name='delivery_date'),axis = 1)\n"
   ]
  },
  {
   "cell_type": "code",
   "execution_count": 7,
   "metadata": {},
   "outputs": [],
   "source": [
    "#preprocessing stores table\n",
    "stores = standardize_col_names(stores)\n",
    "stores = stores.apply(lambda row : format_date_column(row,date_col_name='open_date'),axis=1)\n",
    "stores['square_meters'] = stores['square_meters'].fillna(0)"
   ]
  },
  {
   "cell_type": "code",
   "execution_count": 8,
   "metadata": {},
   "outputs": [],
   "source": [
    "#preprocessing exchage table\n",
    "exchange_rates = standardize_col_names(exchange_rates)\n",
    "exchange_rates = exchange_rates.apply(lambda row : format_date_column(row,date_col_name='date'),axis=1)\n",
    "\n"
   ]
  },
  {
   "cell_type": "code",
   "execution_count": 9,
   "metadata": {},
   "outputs": [],
   "source": [
    "#create sql table and dumping data into it\n",
    "\n",
    "import mysql.connector\n",
    "\n",
    "con = mysql.connector.connect(\n",
    "        host='localhost',\n",
    "        user='root',\n",
    "        password='password',\n",
    "        database = 'global_electronics')\n",
    "cursor = con.cursor()"
   ]
  },
  {
   "cell_type": "code",
   "execution_count": 10,
   "metadata": {},
   "outputs": [
    {
     "name": "stdout",
     "output_type": "stream",
     "text": [
      "('global_electronics',)\n",
      "('information_schema',)\n",
      "('mysql',)\n",
      "('performance_schema',)\n",
      "('red_bus_scrape',)\n",
      "('sys',)\n"
     ]
    }
   ],
   "source": [
    "# create database \n",
    "cursor.execute('show databases')\n",
    "for val in cursor:\n",
    "    print(val)\n",
    "\n",
    "cursor.execute('create database if not exists global_electronics')\n"
   ]
  },
  {
   "cell_type": "code",
   "execution_count": 15,
   "metadata": {},
   "outputs": [
    {
     "name": "stdout",
     "output_type": "stream",
     "text": [
      "('customer',)\n",
      "('exchange_rate',)\n",
      "('product',)\n",
      "('product_category',)\n",
      "('sale',)\n",
      "('store',)\n"
     ]
    }
   ],
   "source": [
    "cursor.execute('show tables')\n",
    "tables = []\n",
    "for val in cursor:\n",
    "    tables.append(val[0])\n",
    "    print(val)"
   ]
  },
  {
   "cell_type": "code",
   "execution_count": 13,
   "metadata": {},
   "outputs": [],
   "source": [
    "cursor.execute('''\n",
    " CREATE TABLE if not exists customer(\n",
    "         customer_key int,\n",
    "         gender varchar(10) NOT NULL,\n",
    "         name varchar(50) NOT NULL,\n",
    "         city varchar(50) NOT NULL,\n",
    "         state_code varchar(5) NOT NULL,\n",
    "         state varchar(50) NOT NULL,\n",
    "         zip_code varchar(20) NOT NULL,\n",
    "         country varchar(30) NOT NULL,\n",
    "         continent varchar(30) NOT NULL,\n",
    "         birthday date,\n",
    "        PRIMARY KEY(customer_key))\n",
    "''')\n",
    "\n",
    "\n",
    "cursor.execute('''\n",
    "                CREATE TABLE if not exists product_category(\n",
    "                        category_id int,\n",
    "                        sub_category varchar(50) NOT NULL,\n",
    "                        category varchar(40) NOT NULL,\n",
    "                        PRIMARY KEY(category_id),\n",
    "               )\n",
    "               ''')\n",
    "\n",
    "cursor.execute(\n",
    "    '''\n",
    "        CREATE TABLE IF NOT EXISTS product(\n",
    "                product_key int,\n",
    "                name varchar(100) NOT NULL,\n",
    "                brand varchar(30) NOT NULL,\n",
    "                color varchar(20) NOT NULL,\n",
    "                unit_cost decimal(7,2) NOT NULL,\n",
    "                unit_price_usd decimal(5,2) NOT NULL,\n",
    "                category_id int NOT NULL,\n",
    "                PRIMARY KEY(product_key),\n",
    "                FOREIGN KEY(category_id) REFERENCES product_category(category_id),\n",
    "        )\n",
    "    '''\n",
    ")\n",
    "\n",
    "cursor.execute(\n",
    "    '''\n",
    "    CREATE TABLE IF NOT EXISTS store(\n",
    "        store_key int,\n",
    "        country varchar(20) NOT NULL,\n",
    "        state varchar(50) NOT NULL,\n",
    "        square_meters Decimal(10,2) NOT NULL,\n",
    "        open_date date NOT NULL,\n",
    "        PRIMARY KEY(store_key),\n",
    "    )\n",
    "    ''')\n",
    "\n",
    "\n",
    "\n",
    "cursor.execute(\n",
    "    '''\n",
    "    CREATE TABLE IF NOT EXISTS sale(\n",
    "        order_name int,\n",
    "        line_item int NOT NULL,\n",
    "        order_date date NOT NULL,\n",
    "        delivery_date date, \n",
    "        customer_key int NOT NULL,\n",
    "        store_key int NOT NULL,\n",
    "        product_key int NOT NULL,\n",
    "        quantity int NOT NULL,\n",
    "        currency_code varchar(6) NOT NULL,\n",
    "        PRIMARY KEY(order_name, line_item),\n",
    "        FOREIGN KEY(customer_key) REFERENCES customer(customer_key),\n",
    "        FOREIGN KEY(store_key) REFERENCES store(store_key),\n",
    "        FOREIGN KEY(product_key) REFERENCES product(product_key)\n",
    "    )\n",
    "    '''\n",
    ")\n",
    "\n",
    "cursor.execute(\n",
    "    '''\n",
    "    CREATE TABLE IF NOT EXISTS exchange_rate(\n",
    "    date date,\n",
    "    currency varchar(7),\n",
    "    exchange decimal(7,4))\n",
    "    \n",
    "    '''\n",
    ")\n"
   ]
  },
  {
   "cell_type": "markdown",
   "metadata": {},
   "source": [
    "#### customers table\n",
    "- Nopoli's country code is missing and I found that Napoli is also called Naples whose state code is NA.\n",
    "- convert birthday into Date format for sql.\n",
    "- normalize the column names.\n",
    "- try separating state and country into separate table\n",
    "\n",
    "#### products table\n",
    "- split the product table further ie subcategory and category.\n",
    "- normalize the column names.\n",
    "\n",
    "#### sales table\n",
    "- delivery date has missing values but we could not fill that.\n",
    "- normalize the column names.\n",
    "- create a primary key for sql\n",
    "- format date columns\n",
    "\n",
    "\n",
    "#### stores table\n",
    "- convert the open date to dateformat for sql\n",
    "- normalize the column names\n",
    "- handle one NaN value for Online\n",
    "\n",
    "#### xchange table\n",
    "- normalize the column names\n",
    "- convert the 'date' column to date format\n"
   ]
  }
 ],
 "metadata": {
  "kernelspec": {
   "display_name": "Python 3",
   "language": "python",
   "name": "python3"
  },
  "language_info": {
   "codemirror_mode": {
    "name": "ipython",
    "version": 3
   },
   "file_extension": ".py",
   "mimetype": "text/x-python",
   "name": "python",
   "nbconvert_exporter": "python",
   "pygments_lexer": "ipython3",
   "version": "3.12.4"
  }
 },
 "nbformat": 4,
 "nbformat_minor": 2
}
